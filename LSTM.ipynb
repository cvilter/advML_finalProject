{
 "cells": [
  {
   "attachments": {},
   "cell_type": "markdown",
   "metadata": {},
   "source": [
    "Adv ML Final Project <br>\n",
    "Identifying Anti-LGBTQIA-Discriminatory State Bills <br>\n",
    "Carolyn Vilter <br>\n",
    "23.05.16"
   ]
  },
  {
   "attachments": {},
   "cell_type": "markdown",
   "metadata": {},
   "source": [
    "## Data preparation and LSTM model"
   ]
  },
  {
   "attachments": {},
   "cell_type": "markdown",
   "metadata": {},
   "source": [
    "### Data preparation"
   ]
  },
  {
   "cell_type": "code",
   "execution_count": 66,
   "metadata": {},
   "outputs": [],
   "source": [
    "import pandas as pd\n",
    "import numpy as np\n",
    "import matplotlib.pyplot as plt\n",
    "import re\n",
    "import time\n",
    "\n",
    "import torch\n",
    "from torch.utils.data import Dataset\n",
    "from torch.utils.data import DataLoader\n",
    "from torch import nn\n",
    "import torch.nn.functional as F\n",
    "from torch.utils.data.dataset import random_split\n",
    "\n",
    "from torchtext.data.utils import get_tokenizer\n",
    "from torchtext.vocab import Vectors, build_vocab_from_iterator\n",
    "from torchtext.vocab import GloVe\n",
    "\n",
    "from torchmetrics.classification import BinaryRecall\n",
    "from torchmetrics.classification import BinaryPrecision\n",
    "#from sklearn.metrics import confusion_matrix, roc_curve, ConfusionMatrixDisplay\n",
    "\n",
    "#nltk.download('stopwords')\n",
    "from nltk.corpus import stopwords\n",
    "\n",
    "import math\n",
    "from string import digits"
   ]
  },
  {
   "cell_type": "code",
   "execution_count": 67,
   "metadata": {},
   "outputs": [],
   "source": [
    "# Combined bill text / discriminatory label datasets\n",
    "df = pd.read_csv(\"data/ML_text_data_new.csv\")"
   ]
  },
  {
   "cell_type": "code",
   "execution_count": 68,
   "metadata": {},
   "outputs": [],
   "source": [
    "# Drop bills with no text\n",
    "df = df[df['text'].notna()]"
   ]
  },
  {
   "cell_type": "code",
   "execution_count": 69,
   "metadata": {},
   "outputs": [
    {
     "data": {
      "text/plain": [
       "2660"
      ]
     },
     "execution_count": 69,
     "metadata": {},
     "output_type": "execute_result"
    }
   ],
   "source": [
    "stop_words = set(stopwords.words('english'))\n",
    "stop_words.update(['.', ',', '(', ')', '--', 'hba', 'sba', 'hb', 'sb', 'house', 'senate', 'session'\n",
    "                   'hbb', 'sshb', '-ls\\\\s', '-ls\\\\a', 'sbb', 'cssb', 'cra', '-ls\\\\b', 'legislature'])\n",
    "data_raw = zip(df['discriminatory'], df['text'])\n",
    "data = [(label, tokens) for (label, tokens) in data_raw] \n",
    "len(data)"
   ]
  },
  {
   "cell_type": "code",
   "execution_count": 70,
   "metadata": {},
   "outputs": [],
   "source": [
    "# Bill text cleanup function\n",
    "def clean_text(text):\n",
    "    ''' \n",
    "    Clean bill text: replace incorrect delimeters and remove meaningless \n",
    "    recurring text, extra spaces, and digits\n",
    "    '''\n",
    "    text = text.replace(\"\\n\", \" \")\n",
    "    text = text.replace(\"New Text Underlined\", \"\")\n",
    "    text = text.replace(\"[DELETED TEXT BRACKETED]\", \"\")\n",
    "    text = text.replace(\"HOUSE BILL\", \"\")\n",
    "    text = text.replace(\"SENATE BILL\", \"\")\n",
    "    text = re.sub(\" {2,}\", \" \", text)\n",
    "    remove_digits = str.maketrans('', '', digits)\n",
    "    text = text.translate(remove_digits)\n",
    "    return text\n",
    "    \n",
    "# Tokenizer\n",
    "tokenizer = get_tokenizer('basic_english')"
   ]
  },
  {
   "cell_type": "code",
   "execution_count": 71,
   "metadata": {},
   "outputs": [
    {
     "name": "stdout",
     "output_type": "stream",
     "text": [
      "min length: 6 , max length: 133364\n",
      "num bills: 2660 , num weird bills: 202\n"
     ]
    }
   ],
   "source": [
    "# Tokenize bill texts; identify short/messy texts\n",
    "tokenized_texts = []\n",
    "min_len = float('inf')\n",
    "max_len = 0\n",
    "lengths = []\n",
    "num_weird_bills = 0\n",
    "\n",
    "for text in df[\"text\"]:\n",
    "    text = clean_text(text)\n",
    "    text = tokenizer(text)\n",
    "    text = [w for w in text if w not in stop_words]\n",
    "    tokenized_texts.append(text)\n",
    "\n",
    "    num_tokens = len(text)\n",
    "    lengths.append(num_tokens)\n",
    "    if num_tokens > max_len:\n",
    "        max_len = num_tokens\n",
    "    if num_tokens < min_len:\n",
    "        min_len = num_tokens\n",
    "    if num_tokens < 100:\n",
    "        # print short bill texts for inspection\n",
    "        #print(text)\n",
    "        num_weird_bills += 1\n",
    "\n",
    "# print key info\n",
    "print(\"min length:\", min_len, \", max length:\", max_len)\n",
    "print(\"num bills:\", len(tokenized_texts), \", num weird bills:\", num_weird_bills)"
   ]
  },
  {
   "cell_type": "code",
   "execution_count": 7,
   "metadata": {},
   "outputs": [
    {
     "data": {
      "text/plain": [
       "2660"
      ]
     },
     "execution_count": 7,
     "metadata": {},
     "output_type": "execute_result"
    }
   ],
   "source": [
    "# Turn our labels and cleaned-up text into a coherent dataset (list of tuples)\n",
    "data = []\n",
    "for label, tokens in zip(df[\"discriminatory\"], tokenized_texts):\n",
    "    #single_string = \"\"\n",
    "    #for token in text:\n",
    "    #    single_string = single_string + token + \" \"\n",
    "    data.append((label, tokens))\n",
    "len(data)"
   ]
  },
  {
   "cell_type": "code",
   "execution_count": 8,
   "metadata": {},
   "outputs": [],
   "source": [
    "# # #standardize bill length - truncate and pad\n",
    "# for i, (label, tokens) in enumerate(data):\n",
    "#     if len(tokens) > 500:\n",
    "#         tokens = tokens[:500]\n",
    "#         data[i] = (label, tokens)\n",
    "#     else:\n",
    "#         pad_len = 500 - len(tokens)\n",
    "#         padding = ['<unk>'] * pad_len\n",
    "#         tokens = tokens + padding\n",
    "#         data[i] = (label, tokens)"
   ]
  },
  {
   "cell_type": "code",
   "execution_count": 9,
   "metadata": {},
   "outputs": [],
   "source": [
    "# standardize bill length - split and pad\n",
    "def standardize_text(data_list):\n",
    "    '''\n",
    "    To accomodate model limitations, standardize \"bill\" length to 500 words.\n",
    "    Bills of >500 words are split into multiple correctly-labeled sections.\n",
    "    Bills and sections of <500 words are padded.\n",
    "    '''\n",
    "    data = []\n",
    "    for i, (label, all_tokens) in enumerate(data_list):\n",
    "        if len(all_tokens) > 500 and len(all_tokens) < 10000:\n",
    "            num_div = math.trunc(len(all_tokens)/500)\n",
    "            for i in range(num_div):\n",
    "                tokens = all_tokens[i*500:(i+1)*500]\n",
    "                data.append((label, tokens))\n",
    "            end_tokens = all_tokens[num_div*500:]\n",
    "            pad_len = 500 - len(end_tokens)\n",
    "            padding = ['<unk>'] * pad_len\n",
    "            end_tokens = end_tokens + padding\n",
    "            data.append((label, end_tokens))\n",
    "        elif len(all_tokens) < 10000:\n",
    "            pad_len = 500 - len(all_tokens)\n",
    "            padding = ['<unk>'] * pad_len\n",
    "            tokens = all_tokens + padding\n",
    "            data.append((label, tokens))\n",
    "\n",
    "    return data"
   ]
  },
  {
   "cell_type": "code",
   "execution_count": 10,
   "metadata": {},
   "outputs": [
    {
     "name": "stdout",
     "output_type": "stream",
     "text": [
      "2128 train 266 validation 266 testing\n"
     ]
    }
   ],
   "source": [
    "# Prep for data split\n",
    "len_train = int(len(data) * .8)\n",
    "len_valid = int((len(data) - len_train)/2)\n",
    "len_test = len(data) - len_train - len_valid\n",
    "print(len_train, \"train\", len_valid, \"validation\", len_test, \"testing\")\n",
    "\n",
    "# Split\n",
    "train_data, valid_data, test_data = random_split(\n",
    "    data, [len_train, len_valid, len_test])"
   ]
  },
  {
   "cell_type": "code",
   "execution_count": 11,
   "metadata": {},
   "outputs": [
    {
     "name": "stdout",
     "output_type": "stream",
     "text": [
      "total dataset length:  2128\n",
      "\n",
      "bill 0 length:  3625\n",
      "bill 1 length:  492\n",
      "bill 2 length:  464\n",
      "\n",
      "total dataset length:  266\n",
      "\n",
      "bill 0 length:  279\n",
      "bill 1 length:  1200\n",
      "bill 2 length:  139\n",
      "\n",
      "total dataset length:  266\n",
      "\n",
      "bill 0 length:  751\n",
      "bill 1 length:  224\n",
      "bill 2 length:  1654\n",
      "\n"
     ]
    }
   ],
   "source": [
    "# For reference, before splitting into chunks of 500:\n",
    "for dataset in [train_data, valid_data, test_data]:\n",
    "    print(\"total dataset length: \", len(dataset))\n",
    "    print()\n",
    "    # ex. bill lengths\n",
    "    for i in range(0, 3):\n",
    "        print(f\"bill %s length: \" %i, len(dataset[i][1]))\n",
    "    print()"
   ]
  },
  {
   "cell_type": "code",
   "execution_count": 12,
   "metadata": {},
   "outputs": [],
   "source": [
    "data = standardize_text(data)\n",
    "train_data = standardize_text(train_data)\n",
    "valid_data = standardize_text(valid_data)\n",
    "test_data = standardize_text(test_data)"
   ]
  },
  {
   "cell_type": "code",
   "execution_count": 13,
   "metadata": {},
   "outputs": [
    {
     "name": "stdout",
     "output_type": "stream",
     "text": [
      "total dataset length:  5081\n",
      "\n",
      "bill 0 length:  500\n",
      "bill 1 length:  500\n",
      "bill 2 length:  500\n",
      "\n",
      "total dataset length:  589\n",
      "\n",
      "bill 0 length:  500\n",
      "bill 1 length:  500\n",
      "bill 2 length:  500\n",
      "\n",
      "total dataset length:  589\n",
      "\n",
      "bill 0 length:  500\n",
      "bill 1 length:  500\n",
      "bill 2 length:  500\n",
      "\n"
     ]
    }
   ],
   "source": [
    "# Now after\n",
    "for dataset in [train_data, valid_data, test_data]:\n",
    "    print(\"total dataset length: \", len(dataset))\n",
    "    print()\n",
    "    # ex. bill lengths\n",
    "    for i in range(0, 3):\n",
    "        print(f\"bill %s length: \" %i, len(dataset[i][1]))\n",
    "    print()"
   ]
  },
  {
   "cell_type": "code",
   "execution_count": 14,
   "metadata": {},
   "outputs": [
    {
     "data": {
      "text/plain": [
       "3884"
      ]
     },
     "execution_count": 14,
     "metadata": {},
     "output_type": "execute_result"
    }
   ],
   "source": [
    "# Make vocab from tokens\n",
    "vocab = build_vocab_from_iterator(\n",
    "  tokenized_texts, specials=[\"<unk>\"], min_freq = 100)\n",
    "vocab.set_default_index(vocab[\"<unk>\"])\n",
    "len(vocab)"
   ]
  },
  {
   "cell_type": "code",
   "execution_count": 17,
   "metadata": {},
   "outputs": [
    {
     "name": "stdout",
     "output_type": "stream",
     "text": [
      "Glove vectors tensor shape: torch.Size([3884, 300])\n"
     ]
    }
   ],
   "source": [
    "# Import glove: CHANGE DIR\n",
    "# Claire\n",
    "VECTOR_CACHE_DIR: str = \"CAPP/Adv_ML/.vector_cache\"\n",
    "# Carolyn\n",
    "# VECTOR_CACHE_DIR = '/Users/carolynvilter/Documents/MSCAPP_Y2Q3/adv_ml/.vector_cache'\n",
    "\n",
    "glove = GloVe(name='6B', cache = VECTOR_CACHE_DIR)\n",
    "glove_vectors = glove.get_vecs_by_tokens(vocab.get_itos())\n",
    "print(f\"Glove vectors tensor shape: {glove_vectors.shape}\")"
   ]
  },
  {
   "cell_type": "code",
   "execution_count": 18,
   "metadata": {},
   "outputs": [],
   "source": [
    "# Prep to turn our data into custom text streamer\n",
    "    \n",
    "class CustomDataset(Dataset):\n",
    "    ''' \n",
    "    Custom dataset class for processing model-input bill data\n",
    "    '''\n",
    "    def __init__(self, data):\n",
    "        self.data = data\n",
    "        self.vocab = vocab\n",
    "\n",
    "    def vocab_size(self):\n",
    "        # add one more for out of vocab words\n",
    "        return len(self.vocab) + 1\n",
    "    \n",
    "    def get_vocab(self):\n",
    "        return self.vocab\n",
    "\n",
    "    def __len__(self):\n",
    "        return len(self.data)\n",
    "\n",
    "    def __getitem__(self, idx):\n",
    "        label, tokenized_text = self.data[idx]\n",
    "        tokenized_texts_idxs = self.vocab.lookup_indices(tokenized_text)\n",
    "        return (torch.LongTensor([label]), torch.LongTensor(tokenized_texts_idxs))"
   ]
  },
  {
   "attachments": {},
   "cell_type": "markdown",
   "metadata": {},
   "source": [
    "### LSTM"
   ]
  },
  {
   "cell_type": "code",
   "execution_count": 19,
   "metadata": {},
   "outputs": [],
   "source": [
    "# Model class\n",
    "class RNNLSTM(nn.Module):\n",
    "    ''' \n",
    "    RNN-LSTM Model class\n",
    "    Inputs\n",
    "        embed_type: 'nn' for randomly-initialized or 'glove' for GloVe embeddings\n",
    "        vocab_size: size of vocabulary being used\n",
    "        embedding_dim: desired dimension of embedding vector, if embed type nn\n",
    "        freeze_status: True for frozen and False for non-frozen embeddings, \n",
    "            if embed type 'glove'\n",
    "        hidden_dim: desired dimension of hidden layer(s)\n",
    "        num_layers: desired number of hidden layers\n",
    "        dropout: desired dropout rate; defaults to 0.5 per CNN findings\n",
    "    Outputs\n",
    "        y_hat (predictions) and hidden layer vector\n",
    "    '''\n",
    "    def __init__(self, embed_type, vocab_size, embedding_dim,\n",
    "                 freeze_status, hidden_dim, num_layers, dropout = 0.5):\n",
    "        # nn.Module init\n",
    "        super(RNNLSTM, self).__init__()\n",
    "        if embed_type == \"nn\":\n",
    "            self.embedding = nn.Embedding(vocab_size, embedding_dim)\n",
    "        elif embed_type == \"glove\":\n",
    "            self.embedding = nn.Embedding.from_pretrained(glove_vectors, \n",
    "                                                        freeze=freeze_status)\n",
    "        if num_layers < 2:\n",
    "            dropout == 0\n",
    "        self.lstm = nn.LSTM(input_size = embedding_dim, \n",
    "                            hidden_size = hidden_dim, \n",
    "                            num_layers = num_layers, \n",
    "                            dropout = dropout)\n",
    "        self.linear = nn.Linear(hidden_dim, 1)\n",
    "\n",
    "    def forward(self, input, hidden0):\n",
    "        embeddings = self.embedding(input)\n",
    "        output, hidden = self.lstm(embeddings, hidden0)\n",
    "        y_hat = self.linear(output)\n",
    "        return y_hat, hidden"
   ]
  },
  {
   "cell_type": "code",
   "execution_count": 20,
   "metadata": {},
   "outputs": [],
   "source": [
    "# Evaluation function\n",
    "def evaluate(model, dataloader):\n",
    "    '''\n",
    "    Evaluate the model on the given data.\n",
    "    '''\n",
    "\n",
    "    model.eval()\n",
    "    it = iter(dataloader)\n",
    "    total_count = 0. # Number of target labels seen\n",
    "    total_loss = 0. # Loss over all target labels\n",
    "    with torch.no_grad():\n",
    "        # Default to zero (no hidden tensors in first batch)\n",
    "        hidden = None \n",
    "        for i, batch in enumerate(it):\n",
    "            target, text = batch\n",
    "            output, hidden = model(text, hidden)\n",
    "            loss = loss_fn(output, target)\n",
    "            \n",
    "            total_count += 1\n",
    "            total_loss += loss\n",
    "            \n",
    "    loss = total_loss / total_count\n",
    "    model.train()\n",
    "    return loss"
   ]
  },
  {
   "cell_type": "code",
   "execution_count": 21,
   "metadata": {},
   "outputs": [],
   "source": [
    "# Create dataloaders\n",
    "\n",
    "BATCH_SIZE = 16\n",
    "\n",
    "train_set = CustomDataset(train_data)\n",
    "train_dataloader = DataLoader(train_set, batch_size=BATCH_SIZE, shuffle=True)\n",
    "\n",
    "valid_set = CustomDataset(valid_data)\n",
    "valid_dataloader = DataLoader(valid_set, batch_size=BATCH_SIZE, shuffle=True)\n",
    "\n",
    "test_set = CustomDataset(test_data)\n",
    "test_dataloader = DataLoader(test_set, batch_size=BATCH_SIZE, shuffle=True)"
   ]
  },
  {
   "cell_type": "code",
   "execution_count": 22,
   "metadata": {},
   "outputs": [
    {
     "name": "stdout",
     "output_type": "stream",
     "text": [
      "0 torch.Size([16, 1]) torch.Size([16, 500])\n",
      "1 torch.Size([16, 1]) torch.Size([16, 500])\n",
      "2 torch.Size([16, 1]) torch.Size([16, 500])\n"
     ]
    }
   ],
   "source": [
    "# Examine dataloaders\n",
    "for idx, (lt, tt) in enumerate(train_dataloader):\n",
    "    print(idx, lt.shape, tt.shape)\n",
    "    if idx == 2:\n",
    "        break"
   ]
  },
  {
   "cell_type": "code",
   "execution_count": 23,
   "metadata": {},
   "outputs": [
    {
     "name": "stdout",
     "output_type": "stream",
     "text": [
      "0 tensor([[1],\n",
      "        [1],\n",
      "        [1],\n",
      "        [1],\n",
      "        [0],\n",
      "        [1],\n",
      "        [0],\n",
      "        [0],\n",
      "        [0],\n",
      "        [0],\n",
      "        [0],\n",
      "        [0],\n",
      "        [0],\n",
      "        [0],\n",
      "        [0],\n",
      "        [0]]) tensor([[ 451,   77,   85,  ...,  706,    0,   74],\n",
      "        [1623,  330, 1093,  ...,  972,  693,  113],\n",
      "        [2839,  902, 1851,  ..., 1027,  396,  155],\n",
      "        ...,\n",
      "        [2179,  211,  122,  ...,  264,    0,  625],\n",
      "        [ 195,  211,  261,  ...,    0,    0,    0],\n",
      "        [   4,   78, 1143,  ...,    0,    0,    0]])\n",
      "1 tensor([[1],\n",
      "        [0],\n",
      "        [0],\n",
      "        [0],\n",
      "        [1],\n",
      "        [1],\n",
      "        [1],\n",
      "        [1],\n",
      "        [0],\n",
      "        [1],\n",
      "        [0],\n",
      "        [0],\n",
      "        [0],\n",
      "        [0],\n",
      "        [0],\n",
      "        [0]]) tensor([[ 792,  557,  274,  ...,  542,  796,   77],\n",
      "        [  22,    2,  370,  ...,    0,    0,    0],\n",
      "        [  80,    0,  323,  ...,  231,   81,  180],\n",
      "        ...,\n",
      "        [ 482,    0,    0,  ..., 1097, 1087, 1613],\n",
      "        [   0, 1208,  336,  ...,   32,  276,   61],\n",
      "        [ 255,   56,   70,  ...,    0,    0,    0]])\n",
      "2 tensor([[0],\n",
      "        [0],\n",
      "        [0],\n",
      "        [0],\n",
      "        [1],\n",
      "        [0],\n",
      "        [1],\n",
      "        [1],\n",
      "        [0],\n",
      "        [0],\n",
      "        [1],\n",
      "        [1],\n",
      "        [0],\n",
      "        [0],\n",
      "        [0],\n",
      "        [1]]) tensor([[ 337,  195,   16,  ...,    0,    0,    0],\n",
      "        [  25,  146, 2018,  ...,  970,   20,    0],\n",
      "        [1145,    0,  587,  ...,    0,    0,    0],\n",
      "        ...,\n",
      "        [2940,   68,    0,  ...,    0,    0,    0],\n",
      "        [2464,    5,   68,  ...,  565, 1650,  467],\n",
      "        [1405,  311,   31,  ..., 1454, 1022,    0]])\n"
     ]
    }
   ],
   "source": [
    "# Cont.\n",
    "for idx, (lt, tt) in enumerate(train_dataloader):\n",
    "    print(idx, lt, tt)\n",
    "    if idx == 2:\n",
    "        break"
   ]
  },
  {
   "cell_type": "code",
   "execution_count": 24,
   "metadata": {},
   "outputs": [],
   "source": [
    "def get_probabilites(dataloader):\n",
    "    ''' \n",
    "    Return predicted y probabilites for use in creating ROC curve \n",
    "    and confusion matrix\n",
    "    '''\n",
    "    model.eval()\n",
    "    y_list = []\n",
    "    y_pred_list = []\n",
    "    with torch.no_grad(): \n",
    "        for idx, (label, word_idxs) in enumerate(dataloader):\n",
    "            output, _ = model(word_idxs, hidden)\n",
    "            _, predictions = torch.max(output.data, 1)\n",
    "            for i, pred in enumerate(predictions):\n",
    "                if pred > 1:\n",
    "                    predictions[i] = 1\n",
    "            y_list.append(label)\n",
    "            y_pred_list.append(predictions)\n",
    "    y = torch.cat(y_list, dim=0)\n",
    "    y_pred = torch.cat(y_pred_list, dim=0)\n",
    "    return y, y_pred"
   ]
  },
  {
   "cell_type": "code",
   "execution_count": 25,
   "metadata": {},
   "outputs": [],
   "source": [
    "def get_accuracy(dataloader):\n",
    "    ''' \n",
    "    Given a trained model and a (test or validation) dataloader, evaluate and\n",
    "    return the accuraccy, recall, and precision of the model on the data.\n",
    "    '''\n",
    "    \n",
    "    model.eval()\n",
    "    with torch.no_grad():   \n",
    "        hidden = None \n",
    "        total_acc, total_count = 0, 0\n",
    "        all_recall = []\n",
    "        all_precision = []\n",
    "        recall_metric = BinaryRecall()\n",
    "        precision_metric = BinaryPrecision()\n",
    "        \n",
    "        for idx, (label, word_idxs) in enumerate(dataloader):\n",
    "            output, _ = model(word_idxs, hidden)\n",
    "            _, predictions = torch.max(output.data, 1)\n",
    "            for i, pred in enumerate(predictions):\n",
    "                if pred > 1:\n",
    "                    predictions[i] = 1\n",
    "\n",
    "            total_acc += (predictions == label).sum().item()\n",
    "            total_count += label.size(0)\n",
    "\n",
    "            if idx < 122:\n",
    "                recall = recall_metric(predictions, label)\n",
    "                precision = precision_metric(predictions, label)\n",
    "                all_recall.append(recall)\n",
    "                all_precision.append(precision)\n",
    "\n",
    "    accuracy = total_acc/total_count\n",
    "\n",
    "    return accuracy, np.mean(all_recall), np.mean(all_precision)"
   ]
  },
  {
   "cell_type": "code",
   "execution_count": 26,
   "metadata": {},
   "outputs": [],
   "source": [
    "# Prep to train\n",
    "GRAD_CLIP = 1.\n",
    "NUM_EPOCHS = 10\n",
    "EMBED_TYPE = \"nn\"\n",
    "EMBEDDING_SIZE = glove_vectors.shape[1]\n",
    "FREEZE_STATUS = None\n",
    "NUM_LAYERS = 2\n",
    "LR = 0.0005\n",
    "VOCAB_SIZE = len(vocab)\n",
    "loss_fn = nn.CrossEntropyLoss()\n",
    "\n",
    "model = RNNLSTM(EMBED_TYPE, VOCAB_SIZE, EMBEDDING_SIZE, FREEZE_STATUS,\n",
    "                EMBEDDING_SIZE, NUM_LAYERS)\n",
    "\n",
    "optimizer = torch.optim.Adam(model.parameters(), lr = LR)\n",
    "val_losses = []\n",
    "\n",
    "def repackage_hidden(h):\n",
    "    \"\"\"Wraps hidden states in new Tensors, to detach them from their history.\"\"\"\n",
    "    if h is None:\n",
    "        return None\n",
    "    elif isinstance(h, torch.Tensor):\n",
    "        return h.detach()\n",
    "    else:\n",
    "        return tuple(repackage_hidden(v) for v in h)\n",
    "    \n",
    "# Store metrics\n",
    "accuracies_val = []\n",
    "recalls_val = []\n",
    "precisions_val = []\n",
    "accuracies_train = []\n",
    "recalls_train = []\n",
    "precisions_train = []"
   ]
  },
  {
   "cell_type": "code",
   "execution_count": 27,
   "metadata": {},
   "outputs": [
    {
     "name": "stdout",
     "output_type": "stream",
     "text": [
      "At iteration 60 the loss is 4.428.\n",
      "At iteration 120 the loss is 1.075.\n",
      "At iteration 180 the loss is 1.328.\n",
      "At iteration 240 the loss is 0.721.\n",
      "At iteration 300 the loss is 0.738.\n",
      "Epoch 0 - validation accuracy: 0.441, \n",
      "            recall: 0.7520163059234619, precision: 0.34446391463279724.\n",
      "At iteration 60 the loss is 0.610.\n",
      "At iteration 120 the loss is 0.632.\n",
      "At iteration 180 the loss is 0.652.\n",
      "At iteration 240 the loss is 0.674.\n",
      "At iteration 300 the loss is 0.789.\n",
      "Epoch 1 - validation accuracy: 0.409, \n",
      "            recall: 0.8785070180892944, precision: 0.3557519316673279.\n",
      "At iteration 60 the loss is 0.613.\n",
      "At iteration 120 the loss is 0.647.\n",
      "At iteration 180 the loss is 0.541.\n",
      "At iteration 240 the loss is 0.565.\n",
      "At iteration 300 the loss is 0.634.\n",
      "Epoch 2 - validation accuracy: 0.411, \n",
      "            recall: 0.9238417148590088, precision: 0.36299416422843933.\n",
      "At iteration 60 the loss is 0.730.\n",
      "At iteration 120 the loss is 0.743.\n",
      "At iteration 180 the loss is 0.586.\n",
      "At iteration 240 the loss is 0.696.\n",
      "At iteration 300 the loss is 0.585.\n",
      "Epoch 3 - validation accuracy: 0.407, \n",
      "            recall: 0.9589875936508179, precision: 0.35940006375312805.\n",
      "At iteration 60 the loss is 0.768.\n",
      "At iteration 120 the loss is 0.739.\n",
      "At iteration 180 the loss is 0.612.\n",
      "At iteration 240 the loss is 0.503.\n",
      "At iteration 300 the loss is 0.498.\n",
      "Epoch 4 - validation accuracy: 0.428, \n",
      "            recall: 0.9435542225837708, precision: 0.36093610525131226.\n",
      "At iteration 60 the loss is 0.464.\n",
      "At iteration 120 the loss is 0.420.\n",
      "At iteration 180 the loss is 0.970.\n",
      "At iteration 240 the loss is 0.571.\n",
      "At iteration 300 the loss is 0.980.\n",
      "Epoch 5 - validation accuracy: 0.382, \n",
      "            recall: 0.9619368314743042, precision: 0.34937670826911926.\n",
      "At iteration 60 the loss is 0.457.\n",
      "At iteration 120 the loss is 0.501.\n",
      "At iteration 180 the loss is 0.378.\n",
      "At iteration 240 the loss is 0.488.\n",
      "At iteration 300 the loss is 0.646.\n",
      "Epoch 6 - validation accuracy: 0.387, \n",
      "            recall: 0.9696696400642395, precision: 0.3510645925998688.\n",
      "At iteration 60 the loss is 0.489.\n",
      "At iteration 120 the loss is 0.620.\n",
      "At iteration 180 the loss is 0.368.\n",
      "At iteration 240 the loss is 0.497.\n",
      "At iteration 300 the loss is 0.455.\n",
      "Epoch 7 - validation accuracy: 0.402, \n",
      "            recall: 0.9544401168823242, precision: 0.35522720217704773.\n",
      "At iteration 60 the loss is 0.433.\n",
      "At iteration 120 the loss is 0.386.\n",
      "At iteration 180 the loss is 0.369.\n",
      "At iteration 240 the loss is 3.334.\n",
      "At iteration 300 the loss is 0.407.\n",
      "Epoch 8 - validation accuracy: 0.375, \n",
      "            recall: 0.9420419931411743, precision: 0.3429213762283325.\n",
      "At iteration 60 the loss is 0.276.\n",
      "At iteration 120 the loss is 0.334.\n",
      "At iteration 180 the loss is 0.394.\n",
      "At iteration 240 the loss is 0.414.\n",
      "At iteration 300 the loss is 0.355.\n",
      "Epoch 9 - validation accuracy: 0.365, \n",
      "            recall: 0.9722329378128052, precision: 0.3453086018562317.\n",
      "The estimated test accuracy is 0.321, recall 0.9475225210189819, precision 0.2982860803604126.\n"
     ]
    },
    {
     "data": {
      "image/png": "[encoded data removed]",
      "text/plain": [
       "<Figure size 640x480 with 1 Axes>"
      ]
     },
     "metadata": {},
     "output_type": "display_data"
    }
   ],
   "source": [
    "# Train model\n",
    "for epoch in range(NUM_EPOCHS):\n",
    "\n",
    "    # 1: Train the epoch\n",
    "    model.train()\n",
    "    it = iter(train_dataloader)\n",
    "    # default to zeros (no hidden tensors for the first batch)\n",
    "    hidden = None\n",
    "    for i, batch in enumerate(it):       \n",
    "        # extract text and target\n",
    "        target, text = batch\n",
    "        # pass detached hidden state vector\n",
    "        # call forward prop to get output and final hidden state\n",
    "        output, hidden = model(text, repackage_hidden(hidden))\n",
    "        # zero out gradients\n",
    "        optimizer.zero_grad()\n",
    "        # compute loss\n",
    "        loss = loss_fn(output, target)\n",
    "        # run backprop\n",
    "        loss.backward()\n",
    "        # clip gradients that may have exploded\n",
    "        nn.utils.clip_grad_norm_(model.parameters(), GRAD_CLIP)\n",
    "        # run a step of gradient descent\n",
    "        optimizer.step()\n",
    "        # print batch loss after every few iterations\n",
    "        print_interval = 60\n",
    "        if i % print_interval == 0 and i > 0:\n",
    "            print(f'At iteration {i} the loss is {loss:.3f}.')\n",
    "        # evaluate on validation set after every 10,000 iterations and save\n",
    "        if i % 100 == 0 and i > 0:\n",
    "            val_loss = evaluate(model, valid_dataloader)\n",
    "            val_losses.append(val_loss)\n",
    "    \n",
    "    # 2: Evaluate results\n",
    "    accuracy_val, recall_val, precision_val = get_accuracy(valid_dataloader)\n",
    "    accuracy_train, recall_train, precision_train = get_accuracy(train_dataloader)\n",
    "    accuracies_val.append(accuracy_val)\n",
    "    recalls_val.append(recall_val)\n",
    "    precisions_val.append(precision_val)\n",
    "    accuracies_train.append(accuracy_train)\n",
    "    recalls_train.append(recall_train)\n",
    "    precisions_train.append(precision_train)\n",
    "    print(f'''Epoch {epoch} - validation accuracy: {accuracy_val:.3f}, \n",
    "            recall: {recall_val}, precision: {precision_val}.''')\n",
    "\n",
    "plt.plot(range(1, NUM_EPOCHS+1), accuracies_val)\n",
    "\n",
    "accuracy, recall, precision = get_accuracy(test_dataloader)\n",
    "#y, y_prob = get_probabilites(test_dataloader)\n",
    "print(f'The estimated test accuracy is {accuracy:.3f}, recall {recall}, precision {precision}.')"
   ]
  },
  {
   "cell_type": "code",
   "execution_count": 28,
   "metadata": {},
   "outputs": [
    {
     "name": "stdout",
     "output_type": "stream",
     "text": [
      "Training accuracies, recalls, and precisions\n",
      "[0.47510332611690614, 0.4782523125369022, 0.48002361739814997, 0.4656563668569179, 0.47707144262940365, 0.4658531785081677, 0.4654595552056682, 0.4705766581381618, 0.47451289116315687, 0.44932099980318835]\n",
      "[0.7584282, 0.86411977, 0.95052934, 0.9719133, 0.96668565, 0.98123205, 0.9722873, 0.97339284, 0.980253, 0.9901542]\n",
      "[0.42010117, 0.45112684, 0.44162372, 0.43286124, 0.43416393, 0.43466142, 0.4328599, 0.42072162, 0.42314595, 0.4068802]\n",
      "Validation accuracies, recalls, and precisions\n",
      "[0.44142614601018676, 0.4091680814940577, 0.41086587436332767, 0.4074702886247878, 0.42784380305602715, 0.38200339558573854, 0.3870967741935484, 0.40237691001697795, 0.37521222410865873, 0.36502546689303905]\n",
      "[0.7520163, 0.878507, 0.9238417, 0.9589876, 0.9435542, 0.96193683, 0.96966964, 0.9544401, 0.942042, 0.97223294]\n",
      "[0.3444639, 0.35575193, 0.36299416, 0.35940006, 0.3609361, 0.3493767, 0.3510646, 0.3552272, 0.34292138, 0.3453086]\n"
     ]
    }
   ],
   "source": [
    "metrics = [\"Training accuracies, recalls, and precisions\", accuracies_train, recalls_train, precisions_train, \"Validation accuracies, recalls, and precisions\", accuracies_val, recalls_val, precisions_val]\n",
    "for item in metrics:\n",
    "    print(item)"
   ]
  },
  {
   "cell_type": "code",
   "execution_count": 29,
   "metadata": {},
   "outputs": [
    {
     "name": "stdout",
     "output_type": "stream",
     "text": [
      "The estimated test accuracy is 0.321, recall 0.9638567566871643, precision 0.30134516954421997.\n"
     ]
    }
   ],
   "source": [
    "# Evaluating on the test dataset\n",
    "accuracy, recall, precision = get_accuracy(test_dataloader)\n",
    "#y, y_prob = get_probabilites(test_dataloader)\n",
    "print(f'The estimated test accuracy is {accuracy:.3f}, recall {recall}, precision {precision}.')"
   ]
  },
  {
   "attachments": {},
   "cell_type": "markdown",
   "metadata": {},
   "source": [
    "Accuracy"
   ]
  },
  {
   "cell_type": "code",
   "execution_count": 30,
   "metadata": {},
   "outputs": [
    {
     "data": {
      "text/plain": [
       "Text(0, 0.5, 'Accuracy')"
      ]
     },
     "execution_count": 30,
     "metadata": {},
     "output_type": "execute_result"
    },
    {
     "data": {
      "image/png": "[encoded data removed]",
      "text/plain": [
       "<Figure size 640x480 with 1 Axes>"
      ]
     },
     "metadata": {},
     "output_type": "display_data"
    }
   ],
   "source": [
    "plt.plot(range(1, NUM_EPOCHS+1), accuracies_val, label='validation')\n",
    "plt.plot(range(1, NUM_EPOCHS+1), accuracies_train, label='train')\n",
    "plt.title('Accuracy of LSTM')\n",
    "plt.legend()\n",
    "plt.xlabel('Epochs')\n",
    "plt.ylabel('Accuracy')\n"
   ]
  },
  {
   "attachments": {},
   "cell_type": "markdown",
   "metadata": {},
   "source": [
    "Recall"
   ]
  },
  {
   "cell_type": "code",
   "execution_count": 31,
   "metadata": {},
   "outputs": [
    {
     "data": {
      "text/plain": [
       "Text(0, 0.5, 'Recall')"
      ]
     },
     "execution_count": 31,
     "metadata": {},
     "output_type": "execute_result"
    },
    {
     "data": {
      "image/png": "[encoded data removed]",
      "text/plain": [
       "<Figure size 640x480 with 1 Axes>"
      ]
     },
     "metadata": {},
     "output_type": "display_data"
    }
   ],
   "source": [
    "plt.plot(range(1, NUM_EPOCHS+1), recalls_val, label='validation')\n",
    "plt.plot(range(1, NUM_EPOCHS+1), recalls_train, label='train')\n",
    "plt.title('Recall of LSTM')\n",
    "plt.legend()\n",
    "plt.xlabel('Epochs')\n",
    "plt.ylabel('Recall')\n"
   ]
  },
  {
   "attachments": {},
   "cell_type": "markdown",
   "metadata": {},
   "source": [
    "Precision"
   ]
  },
  {
   "cell_type": "code",
   "execution_count": 32,
   "metadata": {},
   "outputs": [
    {
     "data": {
      "text/plain": [
       "Text(0, 0.5, 'Precision')"
      ]
     },
     "execution_count": 32,
     "metadata": {},
     "output_type": "execute_result"
    },
    {
     "data": {
      "image/png": "[encoded data removed]",
      "text/plain": [
       "<Figure size 640x480 with 1 Axes>"
      ]
     },
     "metadata": {},
     "output_type": "display_data"
    }
   ],
   "source": [
    "plt.plot(range(1, NUM_EPOCHS+1), precisions_val, label='validation')\n",
    "plt.plot(range(1, NUM_EPOCHS+1), precisions_train, label='train')\n",
    "plt.title('Precision of LSTM')\n",
    "plt.legend()\n",
    "plt.xlabel('Epochs')\n",
    "plt.ylabel('Precision')\n"
   ]
  },
  {
   "attachments": {},
   "cell_type": "markdown",
   "metadata": {},
   "source": [
    "ROC"
   ]
  },
  {
   "cell_type": "code",
   "execution_count": 33,
   "metadata": {},
   "outputs": [],
   "source": [
    "y, y_prob = get_probabilites(test_dataloader)"
   ]
  },
  {
   "cell_type": "code",
   "execution_count": 36,
   "metadata": {},
   "outputs": [
    {
     "data": {
      "image/png": "[encoded data removed]",
      "text/plain": [
       "<Figure size 640x480 with 1 Axes>"
      ]
     },
     "metadata": {},
     "output_type": "display_data"
    }
   ],
   "source": [
    "def plot_roc_curve(true_y, y_prob):\n",
    "    \"\"\"\n",
    "    plots the roc curve based of the probabilities\n",
    "    \"\"\"\n",
    "\n",
    "    fpr, tpr, thresholds = roc_curve(true_y, y_prob)\n",
    "    plt.plot(fpr, tpr)\n",
    "    plt.xlabel('False Positive Rate')\n",
    "    plt.ylabel('True Positive Rate')\n",
    "\n",
    "plot_roc_curve(y, y_prob)"
   ]
  },
  {
   "attachments": {},
   "cell_type": "markdown",
   "metadata": {},
   "source": [
    "Confusion"
   ]
  },
  {
   "cell_type": "code",
   "execution_count": 37,
   "metadata": {},
   "outputs": [
    {
     "data": {
      "image/png": "[encoded data removed]",
      "text/plain": [
       "<Figure size 640x480 with 2 Axes>"
      ]
     },
     "metadata": {},
     "output_type": "display_data"
    }
   ],
   "source": [
    "cf_mat = confusion_matrix(y, y_prob)\n",
    "disp = ConfusionMatrixDisplay(confusion_matrix=cf_mat)\n",
    "disp.plot()\n",
    "plt.show()"
   ]
  }
 ],
 "metadata": {
  "kernelspec": {
   "display_name": "Python 3",
   "language": "python",
   "name": "python3"
  },
  "language_info": {
   "codemirror_mode": {
    "name": "ipython",
    "version": 3
   },
   "file_extension": ".py",
   "mimetype": "text/x-python",
   "name": "python",
   "nbconvert_exporter": "python",
   "pygments_lexer": "ipython3",
   "version": "3.10.6"
  },
  "orig_nbformat": 4
 },
 "nbformat": 4,
 "nbformat_minor": 2
}
